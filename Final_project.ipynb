{
 "cells": [
  {
   "cell_type": "code",
   "execution_count": 1,
   "id": "915c3424",
   "metadata": {},
   "outputs": [],
   "source": [
    "import pandas as pd\n",
    "import numpy as np\n",
    "import matplotlib \n",
    "import matplotlib.pyplot as plt\n",
    "import datetime"
   ]
  },
  {
   "cell_type": "code",
   "execution_count": null,
   "id": "ec898711",
   "metadata": {
    "scrolled": false
   },
   "outputs": [],
   "source": [
    "import psutil\n",
    "train_folder = [7554]#,7556,7557,7558,7559,7560,7561,7563,7569,7570,7571,7572,7573,7574]\n",
    "for j in train_folder:\n",
    "    for i in range(1,2):\n",
    "        url = r\"train/\"+str(j)+\"/SimpleTest/\"+str(i)+\".csv\"\n",
    "        data = pd.read_csv(url)\n",
    "        #print(data.info())\n",
    "        data.columns = data.columns.str.replace(' ', '')\n",
    "        submit_time = data.iloc[-1][0]\n",
    "        start_time = data.iloc[-2][0]\n",
    "        data.dropna(inplace=True)\n",
    "        data['Time'] = pd.to_datetime(data['Time'],format=\"%M:%S.%f\").dt.time\n",
    "        data['X'] = data.X.astype(float)\n",
    "\n",
    "        x = data.X.tolist()\n",
    "        y = data.Y.tolist()\n",
    "\n",
    "        fig=plt.figure(figsize=(5,3))\n",
    "        ax=fig.add_subplot(111)\n",
    "\n",
    "        plt.gca().invert_yaxis()\n",
    "        ax.scatter(x,y,s=1,c='red')\n",
    "        ax.set_xbound(lower=0.0, upper=1381)\n",
    "        ax.set_ybound(lower=0.0, upper=925)\n",
    "\n",
    "        plt.tight_layout()\n",
    "        plt.show()"
   ]
  },
  {
   "cell_type": "code",
   "execution_count": 2,
   "id": "6b73e283",
   "metadata": {},
   "outputs": [],
   "source": [
    "data = pd.read_csv(r'train/7554/SimpleTest/8.csv')"
   ]
  },
  {
   "cell_type": "code",
   "execution_count": 3,
   "id": "0362031d",
   "metadata": {},
   "outputs": [
    {
     "name": "stdout",
     "output_type": "stream",
     "text": [
      "<class 'pandas.core.frame.DataFrame'>\n",
      "RangeIndex: 1185 entries, 0 to 1184\n",
      "Data columns (total 6 columns):\n",
      " #   Column     Non-Null Count  Dtype  \n",
      "---  ------     --------------  -----  \n",
      " 0   X          1185 non-null   object \n",
      " 1    Y         1183 non-null   float64\n",
      " 2    Pressure  1183 non-null   float64\n",
      " 3    TiltX     1183 non-null   float64\n",
      " 4    TiltY     1183 non-null   float64\n",
      " 5    Time      1183 non-null   object \n",
      "dtypes: float64(4), object(2)\n",
      "memory usage: 55.7+ KB\n"
     ]
    }
   ],
   "source": [
    "data.info()"
   ]
  },
  {
   "cell_type": "code",
   "execution_count": 4,
   "id": "ec23303d",
   "metadata": {},
   "outputs": [
    {
     "name": "stdout",
     "output_type": "stream",
     "text": [
      "Index(['X', ' Y', ' Pressure', ' TiltX', ' TiltY', ' Time'], dtype='object')\n"
     ]
    },
    {
     "data": {
      "text/html": [
       "<div>\n",
       "<style scoped>\n",
       "    .dataframe tbody tr th:only-of-type {\n",
       "        vertical-align: middle;\n",
       "    }\n",
       "\n",
       "    .dataframe tbody tr th {\n",
       "        vertical-align: top;\n",
       "    }\n",
       "\n",
       "    .dataframe thead th {\n",
       "        text-align: right;\n",
       "    }\n",
       "</style>\n",
       "<table border=\"1\" class=\"dataframe\">\n",
       "  <thead>\n",
       "    <tr style=\"text-align: right;\">\n",
       "      <th></th>\n",
       "      <th>X</th>\n",
       "      <th>Y</th>\n",
       "      <th>Pressure</th>\n",
       "      <th>TiltX</th>\n",
       "      <th>TiltY</th>\n",
       "      <th>Time</th>\n",
       "    </tr>\n",
       "  </thead>\n",
       "  <tbody>\n",
       "    <tr>\n",
       "      <th>0</th>\n",
       "      <td>910.472802864072</td>\n",
       "      <td>888.302113</td>\n",
       "      <td>0.094224</td>\n",
       "      <td>-3875.0</td>\n",
       "      <td>-351.0</td>\n",
       "      <td>00:05.8895936</td>\n",
       "    </tr>\n",
       "    <tr>\n",
       "      <th>1</th>\n",
       "      <td>910.472802864072</td>\n",
       "      <td>888.302113</td>\n",
       "      <td>0.099107</td>\n",
       "      <td>-3875.0</td>\n",
       "      <td>-351.0</td>\n",
       "      <td>00:05.9052263</td>\n",
       "    </tr>\n",
       "    <tr>\n",
       "      <th>2</th>\n",
       "      <td>910.472802864072</td>\n",
       "      <td>888.302113</td>\n",
       "      <td>0.123278</td>\n",
       "      <td>-3875.0</td>\n",
       "      <td>-351.0</td>\n",
       "      <td>00:05.9208500</td>\n",
       "    </tr>\n",
       "  </tbody>\n",
       "</table>\n",
       "</div>"
      ],
      "text/plain": [
       "                  X           Y   Pressure   TiltX   TiltY           Time\n",
       "0  910.472802864072  888.302113   0.094224 -3875.0  -351.0  00:05.8895936\n",
       "1  910.472802864072  888.302113   0.099107 -3875.0  -351.0  00:05.9052263\n",
       "2  910.472802864072  888.302113   0.123278 -3875.0  -351.0  00:05.9208500"
      ]
     },
     "execution_count": 4,
     "metadata": {},
     "output_type": "execute_result"
    }
   ],
   "source": [
    "print(data.columns)\n",
    "data.head(3)"
   ]
  },
  {
   "cell_type": "code",
   "execution_count": 5,
   "id": "43d46e4f",
   "metadata": {},
   "outputs": [],
   "source": [
    "data.columns = data.columns.str.replace(' ', '')"
   ]
  },
  {
   "cell_type": "code",
   "execution_count": 6,
   "id": "1789861c",
   "metadata": {},
   "outputs": [],
   "source": [
    "submit_time = data.iloc[-1][0]\n",
    "start_time = data.iloc[-2][0]\n",
    "data.dropna(inplace=True)"
   ]
  },
  {
   "cell_type": "code",
   "execution_count": 7,
   "id": "c73d5253",
   "metadata": {},
   "outputs": [],
   "source": [
    "data['Time'] = pd.to_datetime(data['Time'],format=\"%M:%S.%f\").dt.time\n",
    "data['X'] = data.X.astype(float)"
   ]
  },
  {
   "cell_type": "code",
   "execution_count": 9,
   "id": "73b43a19",
   "metadata": {},
   "outputs": [
    {
     "data": {
      "text/html": [
       "<div>\n",
       "<style scoped>\n",
       "    .dataframe tbody tr th:only-of-type {\n",
       "        vertical-align: middle;\n",
       "    }\n",
       "\n",
       "    .dataframe tbody tr th {\n",
       "        vertical-align: top;\n",
       "    }\n",
       "\n",
       "    .dataframe thead th {\n",
       "        text-align: right;\n",
       "    }\n",
       "</style>\n",
       "<table border=\"1\" class=\"dataframe\">\n",
       "  <thead>\n",
       "    <tr style=\"text-align: right;\">\n",
       "      <th></th>\n",
       "      <th>X</th>\n",
       "      <th>Y</th>\n",
       "      <th>Pressure</th>\n",
       "      <th>TiltX</th>\n",
       "      <th>TiltY</th>\n",
       "      <th>Time</th>\n",
       "    </tr>\n",
       "  </thead>\n",
       "  <tbody>\n",
       "    <tr>\n",
       "      <th>0</th>\n",
       "      <td>910.472803</td>\n",
       "      <td>888.302113</td>\n",
       "      <td>0.094224</td>\n",
       "      <td>-3875.0</td>\n",
       "      <td>-351.0</td>\n",
       "      <td>00:00:05.889593</td>\n",
       "    </tr>\n",
       "    <tr>\n",
       "      <th>1</th>\n",
       "      <td>910.472803</td>\n",
       "      <td>888.302113</td>\n",
       "      <td>0.099107</td>\n",
       "      <td>-3875.0</td>\n",
       "      <td>-351.0</td>\n",
       "      <td>00:00:05.905226</td>\n",
       "    </tr>\n",
       "    <tr>\n",
       "      <th>2</th>\n",
       "      <td>910.472803</td>\n",
       "      <td>888.302113</td>\n",
       "      <td>0.123278</td>\n",
       "      <td>-3875.0</td>\n",
       "      <td>-351.0</td>\n",
       "      <td>00:00:05.920850</td>\n",
       "    </tr>\n",
       "  </tbody>\n",
       "</table>\n",
       "</div>"
      ],
      "text/plain": [
       "            X           Y  Pressure   TiltX  TiltY             Time\n",
       "0  910.472803  888.302113  0.094224 -3875.0 -351.0  00:00:05.889593\n",
       "1  910.472803  888.302113  0.099107 -3875.0 -351.0  00:00:05.905226\n",
       "2  910.472803  888.302113  0.123278 -3875.0 -351.0  00:00:05.920850"
      ]
     },
     "execution_count": 9,
     "metadata": {},
     "output_type": "execute_result"
    }
   ],
   "source": [
    "data.head(3)"
   ]
  },
  {
   "cell_type": "code",
   "execution_count": 12,
   "id": "41fb8c56",
   "metadata": {},
   "outputs": [
    {
     "data": {
      "image/png": "[encoded data removed]",
      "text/plain": [
       "<Figure size 360x216 with 1 Axes>"
      ]
     },
     "metadata": {
      "needs_background": "light"
     },
     "output_type": "display_data"
    }
   ],
   "source": [
    "x = data.X.tolist()\n",
    "y = data.Y.tolist()\n",
    "\n",
    "fig=plt.figure(figsize=(5,3))\n",
    "ax=fig.add_subplot(111)\n",
    "\n",
    "plt.gca().invert_yaxis()\n",
    "ax.scatter(x,y,s=1,c='red')\n",
    "ax.set_xbound(lower=0.0, upper=1381)\n",
    "ax.set_ybound(lower=0.0, upper=925)\n",
    "\n",
    "plt.tight_layout()\n",
    "plt.show()"
   ]
  },
  {
   "cell_type": "raw",
   "id": "faca255f",
   "metadata": {},
   "source": [
    "import time\n",
    "import psutil\n",
    "import matplotlib.pyplot as plt\n",
    "%matplotlib notebook\n",
    "\n",
    "plt.rcParams['animation.html'] = 'jshtml'\n",
    "\n",
    "fig = plt.figure()\n",
    "ax = fig.add_subplot(111)\n",
    "fig.show()"
   ]
  },
  {
   "cell_type": "raw",
   "id": "0702ea1b",
   "metadata": {},
   "source": [
    "x, y = [], []\n",
    "\n",
    "for i in range (len(data.X)):\n",
    "    ax.scatter(data.X[i], data.Y[i], color='b')\n",
    "    fig.canvas.draw() \n",
    "plt.close()"
   ]
  },
  {
   "cell_type": "code",
   "execution_count": null,
   "id": "58d232fa",
   "metadata": {},
   "outputs": [],
   "source": []
  },
  {
   "cell_type": "code",
   "execution_count": null,
   "id": "2333220f",
   "metadata": {},
   "outputs": [],
   "source": []
  },
  {
   "cell_type": "code",
   "execution_count": null,
   "id": "275b43f1",
   "metadata": {},
   "outputs": [],
   "source": []
  },
  {
   "cell_type": "code",
   "execution_count": null,
   "id": "57b3c6d0",
   "metadata": {},
   "outputs": [],
   "source": []
  }
 ],
 "metadata": {
  "kernelspec": {
   "display_name": "Python 3 (ipykernel)",
   "language": "python",
   "name": "python3"
  },
  "language_info": {
   "codemirror_mode": {
    "name": "ipython",
    "version": 3
   },
   "file_extension": ".py",
   "mimetype": "text/x-python",
   "name": "python",
   "nbconvert_exporter": "python",
   "pygments_lexer": "ipython3",
   "version": "3.8.8"
  }
 },
 "nbformat": 4,
 "nbformat_minor": 5
}
